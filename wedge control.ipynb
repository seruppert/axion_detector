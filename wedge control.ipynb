{
 "cells": [
  {
   "cell_type": "code",
   "execution_count": 4,
   "id": "0307308d",
   "metadata": {},
   "outputs": [
    {
     "ename": "ModuleNotFoundError",
     "evalue": "No module named 'ntplib'",
     "output_type": "error",
     "traceback": [
      "\u001b[1;31m---------------------------------------------------------------------------\u001b[0m",
      "\u001b[1;31mModuleNotFoundError\u001b[0m                       Traceback (most recent call last)",
      "Input \u001b[1;32mIn [4]\u001b[0m, in \u001b[0;36m<cell line: 2>\u001b[1;34m()\u001b[0m\n\u001b[0;32m      1\u001b[0m \u001b[38;5;28;01mimport\u001b[39;00m \u001b[38;5;21;01mnumpy\u001b[39;00m \u001b[38;5;28;01mas\u001b[39;00m \u001b[38;5;21;01mnp\u001b[39;00m\n\u001b[1;32m----> 2\u001b[0m \u001b[38;5;28;01mimport\u001b[39;00m \u001b[38;5;21;01mautomate\u001b[39;00m\n\u001b[0;32m      3\u001b[0m \u001b[38;5;28;01mfrom\u001b[39;00m \u001b[38;5;21;01mhexachamber\u001b[39;00m \u001b[38;5;28;01mimport\u001b[39;00m HexaChamber\n\u001b[0;32m      4\u001b[0m \u001b[38;5;28;01mfrom\u001b[39;00m \u001b[38;5;21;01mpositioner\u001b[39;00m \u001b[38;5;28;01mimport\u001b[39;00m Positioner\n",
      "File \u001b[1;32m~\\source\\repos\\axion_detector\\automate.py:20\u001b[0m, in \u001b[0;36m<module>\u001b[1;34m\u001b[0m\n\u001b[0;32m     17\u001b[0m \u001b[38;5;28;01mimport\u001b[39;00m \u001b[38;5;21;01mrequests\u001b[39;00m\n\u001b[0;32m     18\u001b[0m \u001b[38;5;28;01mfrom\u001b[39;00m \u001b[38;5;21;01mdiscord\u001b[39;00m \u001b[38;5;28;01mimport\u001b[39;00m Webhook, RequestsWebhookAdapter\n\u001b[1;32m---> 20\u001b[0m \u001b[38;5;28;01mfrom\u001b[39;00m \u001b[38;5;21;01mhexachamber\u001b[39;00m \u001b[38;5;28;01mimport\u001b[39;00m HexaChamber\n\u001b[0;32m     21\u001b[0m \u001b[38;5;28;01mfrom\u001b[39;00m \u001b[38;5;21;01mpositioner\u001b[39;00m \u001b[38;5;28;01mimport\u001b[39;00m Positioner\n\u001b[0;32m     22\u001b[0m \u001b[38;5;28;01mimport\u001b[39;00m \u001b[38;5;21;01mna_tracer\u001b[39;00m\n",
      "File \u001b[1;32m~\\source\\repos\\axion_detector\\hexachamber.py:4\u001b[0m, in \u001b[0;36m<module>\u001b[1;34m\u001b[0m\n\u001b[0;32m      2\u001b[0m \u001b[38;5;28;01mimport\u001b[39;00m \u001b[38;5;21;01mos\u001b[39;00m\n\u001b[0;32m      3\u001b[0m \u001b[38;5;28;01mimport\u001b[39;00m \u001b[38;5;21;01margparse\u001b[39;00m\n\u001b[1;32m----> 4\u001b[0m \u001b[38;5;28;01mimport\u001b[39;00m \u001b[38;5;21;01mntplib\u001b[39;00m\n\u001b[0;32m      5\u001b[0m \u001b[38;5;28;01mimport\u001b[39;00m \u001b[38;5;21;01mtime\u001b[39;00m\n\u001b[0;32m      6\u001b[0m \u001b[38;5;28;01mimport\u001b[39;00m \u001b[38;5;21;01menum\u001b[39;00m\n",
      "\u001b[1;31mModuleNotFoundError\u001b[0m: No module named 'ntplib'"
     ]
    }
   ],
   "source": [
    "import numpy as np\n",
    "import automate\n",
    "from hexachamber import HexaChamber\n",
    "from positioner import Positioner\n",
    "import na_tracer"
   ]
  },
  {
   "cell_type": "markdown",
   "id": "546bbadc",
   "metadata": {},
   "source": [
    "# Initialize"
   ]
  },
  {
   "cell_type": "code",
   "execution_count": null,
   "id": "b5616b49",
   "metadata": {},
   "outputs": [],
   "source": [
    "hex_ip = \"192.168.254.85\"\n",
    "pos_ip = \"192.168.254.85\"\n",
    "\n",
    "hex_pass = input(\"Hexapod password:\\n>\")\n",
    "hex_pass = input(\"Hexapod password:\\n>\")\n",
    "\n",
    "\n",
    "if(IP == 'x'):\n",
    "    pos = None\n",
    "else:\n",
    "    pos = Positioner(host=args.pos_ip, username='Administrator', password=args.pos_password)#, stage_name=\"IMS100V\")\n",
    "hexa = HexaChamber(host=args.hex_ip, username='Administrator', password=args.hex_password,xps=pos.get_xps())\n",
    "na = na_tracer.NetworkAnalyzer()\n",
    "\n",
    "#webhook = Webhook.frhom_url(\"https://discordapp.com/api/webhooks/903012918126346270/wKyx27DEes1nibOCvu1tM6T5F4zkv60TNq-J0UkFDY-9WyZ2izDCZ_-VbpHvceeWsFqF\", adapter=RequestsWebhookAdapter())\n",
    "webhook = None\n",
    "auto = AutoScanner(hexa, pos, na, webhook)"
   ]
  }
 ],
 "metadata": {
  "kernelspec": {
   "display_name": "Python 3 (ipykernel)",
   "language": "python",
   "name": "python3"
  },
  "language_info": {
   "codemirror_mode": {
    "name": "ipython",
    "version": 3
   },
   "file_extension": ".py",
   "mimetype": "text/x-python",
   "name": "python",
   "nbconvert_exporter": "python",
   "pygments_lexer": "ipython3",
   "version": "3.9.12"
  }
 },
 "nbformat": 4,
 "nbformat_minor": 5
}
